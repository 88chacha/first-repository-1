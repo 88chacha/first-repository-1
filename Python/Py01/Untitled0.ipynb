{
  "nbformat": 4,
  "nbformat_minor": 0,
  "metadata": {
    "colab": {
      "provenance": []
    },
    "kernelspec": {
      "name": "python3",
      "display_name": "Python 3"
    },
    "language_info": {
      "name": "python"
    }
  },
  "cells": [
    {
      "cell_type": "code",
      "execution_count": 9,
      "metadata": {
        "id": "grw9gn4zpmZH",
        "colab": {
          "base_uri": "https://localhost:8080/"
        },
        "outputId": "720e5523-8bca-4269-a333-0ccb3cf8f0c0"
      },
      "outputs": [
        {
          "output_type": "stream",
          "name": "stdout",
          "text": [
            "단어를 입력하세요: 기러기\n",
            "입력된 단어는 회문입니다.\n"
          ]
        }
      ],
      "source": [
        "# 회문인지 아닌지 확인하는 프로그램\n",
        "def palindrome(word):\n",
        "    reversed_word = word[::-1]\n",
        "    if word == reversed_word:\n",
        "        return True\n",
        "    else:\n",
        "        return False\n",
        "\n",
        "input_word = input(\"단어를 입력하세요: \")\n",
        "if palindrome(input_word):\n",
        "    print(\"입력된 단어는 회문입니다.\")\n",
        "else:\n",
        "    print(\"입력된 단어는 회문이 아닙니다.\")"
      ]
    },
    {
      "cell_type": "markdown",
      "source": [],
      "metadata": {
        "id": "2RfVFg6SrsOB"
      }
    }
  ]
}